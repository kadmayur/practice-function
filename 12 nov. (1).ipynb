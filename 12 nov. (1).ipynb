{
 "cells": [
  {
   "cell_type": "code",
   "execution_count": 1,
   "id": "52dbe39e-7e53-447f-b4df-bc77eeace9a2",
   "metadata": {},
   "outputs": [],
   "source": [
    "def test1():\n",
    "    a = 5+6\n",
    "    return a"
   ]
  },
  {
   "cell_type": "code",
   "execution_count": 3,
   "id": "9a17b5d7-aa5f-48d1-b9cf-5a8c6e0562d4",
   "metadata": {},
   "outputs": [
    {
     "data": {
      "text/plain": [
       "11"
      ]
     },
     "execution_count": 3,
     "metadata": {},
     "output_type": "execute_result"
    }
   ],
   "source": [
    "test1()"
   ]
  },
  {
   "cell_type": "code",
   "execution_count": 4,
   "id": "87c08231-a593-4313-b95a-50ec9ef466de",
   "metadata": {},
   "outputs": [],
   "source": [
    "def test2(a,b):\n",
    "    return a+b"
   ]
  },
  {
   "cell_type": "code",
   "execution_count": 5,
   "id": "c7c4f1e2-2a35-4d2b-a989-faa94a00766a",
   "metadata": {},
   "outputs": [
    {
     "data": {
      "text/plain": [
       "3"
      ]
     },
     "execution_count": 5,
     "metadata": {},
     "output_type": "execute_result"
    }
   ],
   "source": [
    "test2(1,2)"
   ]
  },
  {
   "cell_type": "code",
   "execution_count": 6,
   "id": "94cccbc4-ed0e-4d6b-93f1-f9f4b72cd0a6",
   "metadata": {},
   "outputs": [
    {
     "data": {
      "text/plain": [
       "'sudhkumar'"
      ]
     },
     "execution_count": 6,
     "metadata": {},
     "output_type": "execute_result"
    }
   ],
   "source": [
    "test2(\"sudh\", \"kumar\")"
   ]
  },
  {
   "cell_type": "code",
   "execution_count": 7,
   "id": "3ad91fa6-142a-4239-8da9-50ef70af2406",
   "metadata": {},
   "outputs": [
    {
     "data": {
      "text/plain": [
       "'sdfsdfdsf'"
      ]
     },
     "execution_count": 7,
     "metadata": {},
     "output_type": "execute_result"
    }
   ],
   "source": [
    "test2(b = \"sdfdsf\" , a = \"sdf\")"
   ]
  },
  {
   "cell_type": "code",
   "execution_count": 8,
   "id": "9497b6af-0d41-48bd-8356-206d4379aa22",
   "metadata": {},
   "outputs": [],
   "source": [
    "def test3(*args):\n",
    "    return args"
   ]
  },
  {
   "cell_type": "code",
   "execution_count": 11,
   "id": "3523f424-4e34-48c7-a9f4-ca566178858e",
   "metadata": {},
   "outputs": [
    {
     "data": {
      "text/plain": [
       "tuple"
      ]
     },
     "execution_count": 11,
     "metadata": {},
     "output_type": "execute_result"
    }
   ],
   "source": [
    "type(test3(1,2,3,4,\"sudh\"))"
   ]
  },
  {
   "cell_type": "code",
   "execution_count": 12,
   "id": "43f99e08-478d-456b-9d5a-0a474e4376ec",
   "metadata": {},
   "outputs": [
    {
     "data": {
      "text/plain": [
       "([1, 2, 3, 4, 5], 'sudh', 'ineuron', (5+7j), (4, 5, 6))"
      ]
     },
     "execution_count": 12,
     "metadata": {},
     "output_type": "execute_result"
    }
   ],
   "source": [
    "test3([1,2,3,4,5] , \"sudh\" , \"ineuron\" , 5+7j, (4,5,6,))"
   ]
  },
  {
   "cell_type": "code",
   "execution_count": 13,
   "id": "a9ebafc6-49ac-4972-8cbb-bc84de90887a",
   "metadata": {},
   "outputs": [],
   "source": [
    "def test4(*args):\n",
    "    return list(args)"
   ]
  },
  {
   "cell_type": "code",
   "execution_count": 14,
   "id": "a108187f-8c52-482e-8bf2-41de5add322f",
   "metadata": {},
   "outputs": [
    {
     "data": {
      "text/plain": [
       "['sudh', True, (8+7j), 34, 34.56]"
      ]
     },
     "execution_count": 14,
     "metadata": {},
     "output_type": "execute_result"
    }
   ],
   "source": [
    "test4(\"sudh\" , True , 8+7j , 34 , 34.56)"
   ]
  },
  {
   "cell_type": "code",
   "execution_count": 15,
   "id": "caaa401e-81fd-4080-8004-d61434d76ef2",
   "metadata": {},
   "outputs": [],
   "source": [
    "def test5(*args) :\n",
    "        l = [] \n",
    "        for i in args :\n",
    "            l.append(i)\n",
    "        return l"
   ]
  },
  {
   "cell_type": "code",
   "execution_count": 16,
   "id": "3e9f8c40-f353-4af4-96e3-1739fe720b20",
   "metadata": {},
   "outputs": [
    {
     "data": {
      "text/plain": [
       "[34, 56, 23, 87]"
      ]
     },
     "execution_count": 16,
     "metadata": {},
     "output_type": "execute_result"
    }
   ],
   "source": [
    "test5(34,56,23,87)"
   ]
  },
  {
   "cell_type": "code",
   "execution_count": 17,
   "id": "8c38f7fd-7ee3-4966-be73-d786800d4ddd",
   "metadata": {},
   "outputs": [],
   "source": [
    "def test6(*sudh) :\n",
    "    return list(sudh)"
   ]
  },
  {
   "cell_type": "code",
   "execution_count": 18,
   "id": "9977434d-ea54-44fc-875a-356867b1eab4",
   "metadata": {},
   "outputs": [
    {
     "data": {
      "text/plain": [
       "[23, 4567, 67989]"
      ]
     },
     "execution_count": 18,
     "metadata": {},
     "output_type": "execute_result"
    }
   ],
   "source": [
    "test6(23,4567,67989)"
   ]
  },
  {
   "cell_type": "code",
   "execution_count": 2,
   "id": "76d6e51e-1a8c-4d05-95ea-27a1e48deff6",
   "metadata": {},
   "outputs": [],
   "source": [
    "l = [1,2,3,4,5,6]\n",
    "t = (4,5,6, 8+7j)\n",
    "s = {3,4,5,6, 6 , 5,6,6,6,6,6,}"
   ]
  },
  {
   "cell_type": "code",
   "execution_count": 3,
   "id": "080d17b9-c648-4b5e-8f19-01cbc3c55816",
   "metadata": {},
   "outputs": [
    {
     "data": {
      "text/plain": [
       "[1, 2, 3, 4, 5, 6]"
      ]
     },
     "execution_count": 3,
     "metadata": {},
     "output_type": "execute_result"
    }
   ],
   "source": [
    "l"
   ]
  },
  {
   "cell_type": "code",
   "execution_count": 4,
   "id": "667754db-422b-46d0-9ea0-e672b5d42312",
   "metadata": {},
   "outputs": [
    {
     "data": {
      "text/plain": [
       "{3, 4, 5, 6}"
      ]
     },
     "execution_count": 4,
     "metadata": {},
     "output_type": "execute_result"
    }
   ],
   "source": [
    "s"
   ]
  },
  {
   "cell_type": "code",
   "execution_count": 5,
   "id": "21d14b17-4537-4357-805a-54eeafa132f1",
   "metadata": {},
   "outputs": [
    {
     "data": {
      "text/plain": [
       "(4, 5, 6, (8+7j))"
      ]
     },
     "execution_count": 5,
     "metadata": {},
     "output_type": "execute_result"
    }
   ],
   "source": [
    "t"
   ]
  },
  {
   "cell_type": "code",
   "execution_count": 6,
   "id": "01eb665d-5d5a-4d8e-b2b9-f2f2795aae3f",
   "metadata": {},
   "outputs": [],
   "source": [
    "d = {}"
   ]
  },
  {
   "cell_type": "code",
   "execution_count": 7,
   "id": "55f4bdc2-aff2-41d9-9a11-8d50ed916920",
   "metadata": {},
   "outputs": [
    {
     "data": {
      "text/plain": [
       "dict"
      ]
     },
     "execution_count": 7,
     "metadata": {},
     "output_type": "execute_result"
    }
   ],
   "source": [
    "type(d)"
   ]
  },
  {
   "cell_type": "code",
   "execution_count": 8,
   "id": "539e1aef-01ec-48d5-aea7-ed3ee4d6b0e2",
   "metadata": {},
   "outputs": [],
   "source": [
    "dl = {2,3,4,5}"
   ]
  },
  {
   "cell_type": "code",
   "execution_count": 10,
   "id": "e4988b52-a7d8-4be7-ac90-2c5fc5455230",
   "metadata": {},
   "outputs": [
    {
     "data": {
      "text/plain": [
       "set"
      ]
     },
     "execution_count": 10,
     "metadata": {},
     "output_type": "execute_result"
    }
   ],
   "source": [
    "type(dl)"
   ]
  },
  {
   "cell_type": "code",
   "execution_count": 10,
   "id": "92d35895-ecd2-497e-ab90-7dd424040e1d",
   "metadata": {},
   "outputs": [],
   "source": [
    "d2 = {\"key1\" : \"sudh\" , \"key2\" : [2,3,4,5]}"
   ]
  },
  {
   "cell_type": "code",
   "execution_count": 11,
   "id": "1b7703cb-40a9-46a1-8dea-cdd6c7191253",
   "metadata": {},
   "outputs": [
    {
     "ename": "NameError",
     "evalue": "name 'l' is not defined",
     "output_type": "error",
     "traceback": [
      "\u001b[0;31m---------------------------------------------------------------------------\u001b[0m",
      "\u001b[0;31mNameError\u001b[0m                                 Traceback (most recent call last)",
      "Cell \u001b[0;32mIn [11], line 1\u001b[0m\n\u001b[0;32m----> 1\u001b[0m \u001b[43ml\u001b[49m\n",
      "\u001b[0;31mNameError\u001b[0m: name 'l' is not defined"
     ]
    }
   ],
   "source": [
    "l"
   ]
  },
  {
   "cell_type": "code",
   "execution_count": 13,
   "id": "fd7bb010-aa7b-403d-ba8b-28b69c12af61",
   "metadata": {},
   "outputs": [
    {
     "data": {
      "text/plain": [
       "{'key1': 'sudh', 'key2': [2, 3, 4, 5]}"
      ]
     },
     "execution_count": 13,
     "metadata": {},
     "output_type": "execute_result"
    }
   ],
   "source": [
    "d2"
   ]
  },
  {
   "cell_type": "code",
   "execution_count": 14,
   "id": "46fc2e23-25f2-4d49-84a6-7a4139498e48",
   "metadata": {},
   "outputs": [],
   "source": [
    "d3 = {234324 : \"sudh\"}"
   ]
  },
  {
   "cell_type": "code",
   "execution_count": 15,
   "id": "87dab785-d959-4f9c-ad2a-dbd376f9a4d0",
   "metadata": {},
   "outputs": [
    {
     "data": {
      "text/plain": [
       "{234324: 'sudh'}"
      ]
     },
     "execution_count": 15,
     "metadata": {},
     "output_type": "execute_result"
    }
   ],
   "source": [
    "d3"
   ]
  },
  {
   "cell_type": "code",
   "execution_count": null,
   "id": "c4e5d7ac-042a-4883-9edc-b7c2300ad130",
   "metadata": {},
   "outputs": [],
   "source": [
    "d4 = {\"$sudh\" , \"sudh\"}"
   ]
  },
  {
   "cell_type": "code",
   "execution_count": 16,
   "id": "be06140c-58a3-42ec-b459-74f596d21a4d",
   "metadata": {},
   "outputs": [],
   "source": [
    "d6 = {(1,2,3,4,5) : \"sudh\"}"
   ]
  },
  {
   "cell_type": "code",
   "execution_count": 29,
   "id": "c19f8db2-9a50-4603-83da-5a60c9a6a841",
   "metadata": {},
   "outputs": [],
   "source": [
    "d7 = {\" name \" : \"sudhanshu\" , \"o  \" : \"ineuron\" , \"mail id \" : \"sudhanshu@ineuron.ai\" , \"name\" : \"sudh\"}"
   ]
  },
  {
   "cell_type": "code",
   "execution_count": 18,
   "id": "071a5150-804d-41c4-a4f5-7a6df54719ba",
   "metadata": {},
   "outputs": [
    {
     "data": {
      "text/plain": [
       "{' name ': 'sudhanshu',\n",
       " 'o  ': 'ineuron',\n",
       " 'mail id ': 'sudhanshu@ineuron.ai',\n",
       " 'name': 'sudh'}"
      ]
     },
     "execution_count": 18,
     "metadata": {},
     "output_type": "execute_result"
    }
   ],
   "source": [
    "d7"
   ]
  },
  {
   "cell_type": "code",
   "execution_count": 19,
   "id": "68f20cbd-1947-4c23-bb37-5c1d73a917d5",
   "metadata": {},
   "outputs": [],
   "source": [
    "d8 = {\"name\": \"sudh\" , \"mentor\" : {\"fsds\": \"imran\", \"fsda\":\"anand\" , \"bigdata\" : \"shashank\" }}"
   ]
  },
  {
   "cell_type": "code",
   "execution_count": 20,
   "id": "f56d47c8-bda2-4e16-a5bb-3386b8b0d278",
   "metadata": {},
   "outputs": [
    {
     "data": {
      "text/plain": [
       "{'name': 'sudh',\n",
       " 'mentor': {'fsds': 'imran', 'fsda': 'anand', 'bigdata': 'shashank'}}"
      ]
     },
     "execution_count": 20,
     "metadata": {},
     "output_type": "execute_result"
    }
   ],
   "source": [
    "d8"
   ]
  },
  {
   "cell_type": "code",
   "execution_count": 21,
   "id": "2e5e1d59-7471-4ca4-a338-71ef02f722c8",
   "metadata": {},
   "outputs": [
    {
     "data": {
      "text/plain": [
       "{' name ': 'sudhanshu',\n",
       " 'o  ': 'ineuron',\n",
       " 'mail id ': 'sudhanshu@ineuron.ai',\n",
       " 'name': 'sudh'}"
      ]
     },
     "execution_count": 21,
     "metadata": {},
     "output_type": "execute_result"
    }
   ],
   "source": [
    "d7"
   ]
  },
  {
   "cell_type": "code",
   "execution_count": 22,
   "id": "d9bff855-2612-4817-b090-3f009b0f49d7",
   "metadata": {},
   "outputs": [],
   "source": [
    "l = [1,2,3,4,5,6]"
   ]
  },
  {
   "cell_type": "code",
   "execution_count": 23,
   "id": "f17e62f3-9a38-4ca8-b4de-d0af7e1c0c58",
   "metadata": {},
   "outputs": [
    {
     "data": {
      "text/plain": [
       "[1, 2, 3, 4, 5, 6]"
      ]
     },
     "execution_count": 23,
     "metadata": {},
     "output_type": "execute_result"
    }
   ],
   "source": [
    "l"
   ]
  },
  {
   "cell_type": "code",
   "execution_count": 24,
   "id": "e53b848d-9e54-419c-baac-f4644f30af31",
   "metadata": {},
   "outputs": [
    {
     "data": {
      "text/plain": [
       "2"
      ]
     },
     "execution_count": 24,
     "metadata": {},
     "output_type": "execute_result"
    }
   ],
   "source": [
    "l[1]"
   ]
  },
  {
   "cell_type": "code",
   "execution_count": 32,
   "id": "075e7fca-e597-45fd-96d0-bad5835f756e",
   "metadata": {},
   "outputs": [
    {
     "data": {
      "text/plain": [
       "{' name ': 'sudhanshu',\n",
       " 'o  ': 'ineuron',\n",
       " 'mail id ': 'sudhanshu@ineuron.ai',\n",
       " 'name': 'sudh'}"
      ]
     },
     "execution_count": 32,
     "metadata": {},
     "output_type": "execute_result"
    }
   ],
   "source": [
    "d7"
   ]
  },
  {
   "cell_type": "code",
   "execution_count": 33,
   "id": "491cd677-53af-4b86-8972-f9acfcd31ba1",
   "metadata": {},
   "outputs": [
    {
     "data": {
      "text/plain": [
       "{'name': 'sudh',\n",
       " 'mentor': {'fsds': 'imran', 'fsda': 'anand', 'bigdata': 'shashank'}}"
      ]
     },
     "execution_count": 33,
     "metadata": {},
     "output_type": "execute_result"
    }
   ],
   "source": [
    "d8"
   ]
  },
  {
   "cell_type": "code",
   "execution_count": 34,
   "id": "d66a8d23-d415-41ed-b843-16622d7127a7",
   "metadata": {},
   "outputs": [
    {
     "data": {
      "text/plain": [
       "{'fsds': 'imran', 'fsda': 'anand', 'bigdata': 'shashank'}"
      ]
     },
     "execution_count": 34,
     "metadata": {},
     "output_type": "execute_result"
    }
   ],
   "source": [
    "d8['mentor']"
   ]
  },
  {
   "cell_type": "code",
   "execution_count": 35,
   "id": "1ee17efe-e834-4261-b94c-2643431286b0",
   "metadata": {},
   "outputs": [
    {
     "data": {
      "text/plain": [
       "'shashank'"
      ]
     },
     "execution_count": 35,
     "metadata": {},
     "output_type": "execute_result"
    }
   ],
   "source": [
    "d8['mentor']['bigdata']"
   ]
  },
  {
   "cell_type": "code",
   "execution_count": 36,
   "id": "88ebe4f3-2a2e-4a53-b62b-8b350d7812d6",
   "metadata": {},
   "outputs": [
    {
     "data": {
      "text/plain": [
       "dict_keys([' name ', 'o  ', 'mail id ', 'name'])"
      ]
     },
     "execution_count": 36,
     "metadata": {},
     "output_type": "execute_result"
    }
   ],
   "source": [
    "d7.keys()"
   ]
  },
  {
   "cell_type": "code",
   "execution_count": 37,
   "id": "7c88c66f-1958-4fc5-b8c9-552dfef03428",
   "metadata": {},
   "outputs": [
    {
     "data": {
      "text/plain": [
       "dict_values(['sudhanshu', 'ineuron', 'sudhanshu@ineuron.ai', 'sudh'])"
      ]
     },
     "execution_count": 37,
     "metadata": {},
     "output_type": "execute_result"
    }
   ],
   "source": [
    "d7.values()"
   ]
  },
  {
   "cell_type": "code",
   "execution_count": 38,
   "id": "3ada85f0-0af8-45c0-8266-e8a76effa7a6",
   "metadata": {},
   "outputs": [
    {
     "data": {
      "text/plain": [
       "dict_items([(' name ', 'sudhanshu'), ('o  ', 'ineuron'), ('mail id ', 'sudhanshu@ineuron.ai'), ('name', 'sudh')])"
      ]
     },
     "execution_count": 38,
     "metadata": {},
     "output_type": "execute_result"
    }
   ],
   "source": [
    "d7.items()"
   ]
  },
  {
   "cell_type": "code",
   "execution_count": 39,
   "id": "86011e0a-f004-4478-aa8f-01ed77881a2b",
   "metadata": {},
   "outputs": [
    {
     "data": {
      "text/plain": [
       "{'name': 'sudh',\n",
       " 'mentor': {'fsds': 'imran', 'fsda': 'anand', 'bigdata': 'shashank'}}"
      ]
     },
     "execution_count": 39,
     "metadata": {},
     "output_type": "execute_result"
    }
   ],
   "source": [
    "d8"
   ]
  },
  {
   "cell_type": "code",
   "execution_count": 42,
   "id": "11783a56-b547-41a8-9a84-d170290bc1fe",
   "metadata": {},
   "outputs": [
    {
     "data": {
      "text/plain": [
       "['imran', 'anand', 'shashank']"
      ]
     },
     "execution_count": 42,
     "metadata": {},
     "output_type": "execute_result"
    }
   ],
   "source": [
    "list(d8['mentor'].values())"
   ]
  },
  {
   "cell_type": "code",
   "execution_count": 46,
   "id": "2e4bbe91-e1a4-466e-826a-c2a1da62ec2f",
   "metadata": {},
   "outputs": [],
   "source": [
    "l = []\n",
    "for i in d8.keys():\n",
    "    if type(d8[i]) == dict :\n",
    "        l.append(list(d8[i].values()))"
   ]
  },
  {
   "cell_type": "code",
   "execution_count": 47,
   "id": "f9c162c5-f2eb-4955-9371-7aa6ec63207b",
   "metadata": {},
   "outputs": [
    {
     "data": {
      "text/plain": [
       "[['imran', 'anand', 'shashank']]"
      ]
     },
     "execution_count": 47,
     "metadata": {},
     "output_type": "execute_result"
    }
   ],
   "source": [
    "l"
   ]
  },
  {
   "cell_type": "code",
   "execution_count": 50,
   "id": "46be2cd6-f3ca-49f5-9c05-fdac11580b12",
   "metadata": {},
   "outputs": [],
   "source": [
    "d9 = {'name' : 'sudh','mentor': {'fsds': 'imran', 'fsda': 'anand', 'bidata': 'shashank'}, \"mail_id\" : {\"imran\" : \"imran@ineiuron.ai\" , \"anand\" : \"anand@ineuron.ai\" , \"shashank\" : \"shashank@ineuron.ai\"}}"
   ]
  },
  {
   "cell_type": "code",
   "execution_count": 51,
   "id": "9e80dd08-4978-471b-b94a-b5b9c12a601c",
   "metadata": {},
   "outputs": [
    {
     "data": {
      "text/plain": [
       "{'name': 'sudh',\n",
       " 'mentor': {'fsds': 'imran', 'fsda': 'anand', 'bidata': 'shashank'},\n",
       " 'mail_id': {'imran': 'imran@ineiuron.ai',\n",
       "  'anand': 'anand@ineuron.ai',\n",
       "  'shashank': 'shashank@ineuron.ai'}}"
      ]
     },
     "execution_count": 51,
     "metadata": {},
     "output_type": "execute_result"
    }
   ],
   "source": [
    "d9"
   ]
  },
  {
   "cell_type": "code",
   "execution_count": 52,
   "id": "97d6002a-6b4a-41d1-b08d-58981552079a",
   "metadata": {},
   "outputs": [],
   "source": [
    "l = []\n",
    "for i in d9.keys():\n",
    "    if type(d9[i]) == dict :\n",
    "        l.append(list(d9[i].values()))"
   ]
  },
  {
   "cell_type": "code",
   "execution_count": 53,
   "id": "e7d0e7eb-9d90-431d-b7b2-fc990c3a21d3",
   "metadata": {},
   "outputs": [
    {
     "data": {
      "text/plain": [
       "[['imran', 'anand', 'shashank'],\n",
       " ['imran@ineiuron.ai', 'anand@ineuron.ai', 'shashank@ineuron.ai']]"
      ]
     },
     "execution_count": 53,
     "metadata": {},
     "output_type": "execute_result"
    }
   ],
   "source": [
    "l"
   ]
  },
  {
   "cell_type": "code",
   "execution_count": 54,
   "id": "0017eb5b-fadc-4b9a-b96f-d93c9eb6df21",
   "metadata": {},
   "outputs": [],
   "source": [
    "def test9(d):\n",
    "        l = []\n",
    "        for i in d.keys():\n",
    "            if type(d[i]) == dict :\n",
    "                l.append(list(d[i].values()))\n",
    "        return l"
   ]
  },
  {
   "cell_type": "code",
   "execution_count": 55,
   "id": "56790b23-c840-482d-b934-51d6cc5ab060",
   "metadata": {},
   "outputs": [
    {
     "data": {
      "text/plain": [
       "[['imran', 'anand', 'shashank']]"
      ]
     },
     "execution_count": 55,
     "metadata": {},
     "output_type": "execute_result"
    }
   ],
   "source": [
    "test9(d8)"
   ]
  },
  {
   "cell_type": "code",
   "execution_count": 56,
   "id": "0386b5fe-7bf9-4abd-bbe2-6dfbb0b69440",
   "metadata": {},
   "outputs": [
    {
     "data": {
      "text/plain": [
       "[['imran', 'anand', 'shashank'],\n",
       " ['imran@ineiuron.ai', 'anand@ineuron.ai', 'shashank@ineuron.ai']]"
      ]
     },
     "execution_count": 56,
     "metadata": {},
     "output_type": "execute_result"
    }
   ],
   "source": [
    "test9(d9)"
   ]
  },
  {
   "cell_type": "code",
   "execution_count": 57,
   "id": "9616790d-b803-4b81-ae65-54bc9010bd21",
   "metadata": {},
   "outputs": [
    {
     "data": {
      "text/plain": [
       "{'name': 'sudh',\n",
       " 'mentor': {'fsds': 'imran', 'fsda': 'anand', 'bigdata': 'shashank'}}"
      ]
     },
     "execution_count": 57,
     "metadata": {},
     "output_type": "execute_result"
    }
   ],
   "source": [
    "d8"
   ]
  },
  {
   "cell_type": "code",
   "execution_count": 58,
   "id": "1d852578-3464-4ff0-8abe-c7f8b505cf63",
   "metadata": {},
   "outputs": [],
   "source": [
    "d8[\"mobailenumber\"] = (2424,345345,345345)"
   ]
  },
  {
   "cell_type": "code",
   "execution_count": 59,
   "id": "8d0a99c1-20ff-4741-817b-3d28c50ec46f",
   "metadata": {},
   "outputs": [
    {
     "data": {
      "text/plain": [
       "{'name': 'sudh',\n",
       " 'mentor': {'fsds': 'imran', 'fsda': 'anand', 'bigdata': 'shashank'},\n",
       " 'mobailenumber': (2424, 345345, 345345)}"
      ]
     },
     "execution_count": 59,
     "metadata": {},
     "output_type": "execute_result"
    }
   ],
   "source": [
    "d8"
   ]
  },
  {
   "cell_type": "code",
   "execution_count": 60,
   "id": "38b0e9ff-f2da-4cdd-8924-ff786a989cf4",
   "metadata": {},
   "outputs": [],
   "source": [
    "d8[\"name\"] = \"sudhanshu kumar\""
   ]
  },
  {
   "cell_type": "code",
   "execution_count": 61,
   "id": "6f558a26-140d-434e-84fb-114a2ebb364c",
   "metadata": {},
   "outputs": [
    {
     "data": {
      "text/plain": [
       "{'name': 'sudhanshu kumar',\n",
       " 'mentor': {'fsds': 'imran', 'fsda': 'anand', 'bigdata': 'shashank'},\n",
       " 'mobailenumber': (2424, 345345, 345345)}"
      ]
     },
     "execution_count": 61,
     "metadata": {},
     "output_type": "execute_result"
    }
   ],
   "source": [
    "d8"
   ]
  },
  {
   "cell_type": "code",
   "execution_count": 62,
   "id": "de4d6373-0897-4552-97ed-0f14c8e91d44",
   "metadata": {},
   "outputs": [
    {
     "data": {
      "text/plain": [
       "{' name ': 'sudhanshu',\n",
       " 'o  ': 'ineuron',\n",
       " 'mail id ': 'sudhanshu@ineuron.ai',\n",
       " 'name': 'sudh'}"
      ]
     },
     "execution_count": 62,
     "metadata": {},
     "output_type": "execute_result"
    }
   ],
   "source": [
    "d7"
   ]
  },
  {
   "cell_type": "code",
   "execution_count": 63,
   "id": "d4b60c61-6b6c-4077-9f93-039cdc27ee3a",
   "metadata": {},
   "outputs": [],
   "source": [
    "del d7"
   ]
  },
  {
   "cell_type": "code",
   "execution_count": 64,
   "id": "bd93ab9a-7d77-42fb-b6a3-0cce8582c8e3",
   "metadata": {},
   "outputs": [
    {
     "ename": "NameError",
     "evalue": "name 'd7' is not defined",
     "output_type": "error",
     "traceback": [
      "\u001b[0;31m---------------------------------------------------------------------------\u001b[0m",
      "\u001b[0;31mNameError\u001b[0m                                 Traceback (most recent call last)",
      "Cell \u001b[0;32mIn [64], line 1\u001b[0m\n\u001b[0;32m----> 1\u001b[0m \u001b[43md7\u001b[49m\n",
      "\u001b[0;31mNameError\u001b[0m: name 'd7' is not defined"
     ]
    }
   ],
   "source": [
    "d7"
   ]
  },
  {
   "cell_type": "code",
   "execution_count": 65,
   "id": "4cef1dab-153a-4218-aa4b-8133fbc77a4f",
   "metadata": {},
   "outputs": [
    {
     "data": {
      "text/plain": [
       "{'name': 'sudhanshu kumar',\n",
       " 'mentor': {'fsds': 'imran', 'fsda': 'anand', 'bigdata': 'shashank'},\n",
       " 'mobailenumber': (2424, 345345, 345345)}"
      ]
     },
     "execution_count": 65,
     "metadata": {},
     "output_type": "execute_result"
    }
   ],
   "source": [
    "d8"
   ]
  },
  {
   "cell_type": "code",
   "execution_count": 66,
   "id": "0b29fc55-77e8-48b7-84df-0b347c53ee86",
   "metadata": {},
   "outputs": [],
   "source": [
    "del d8['name']"
   ]
  },
  {
   "cell_type": "code",
   "execution_count": 67,
   "id": "3c4adc14-7d5c-41fc-b6b0-1ab8b6bd3fa3",
   "metadata": {},
   "outputs": [
    {
     "data": {
      "text/plain": [
       "{'mentor': {'fsds': 'imran', 'fsda': 'anand', 'bigdata': 'shashank'},\n",
       " 'mobailenumber': (2424, 345345, 345345)}"
      ]
     },
     "execution_count": 67,
     "metadata": {},
     "output_type": "execute_result"
    }
   ],
   "source": [
    "d8"
   ]
  },
  {
   "cell_type": "code",
   "execution_count": 68,
   "id": "5d936223-059e-450e-8c62-6e3c6e98fe81",
   "metadata": {},
   "outputs": [
    {
     "data": {
      "text/plain": [
       "{'fsds': 'imran', 'fsda': 'anand', 'bigdata': 'shashank'}"
      ]
     },
     "execution_count": 68,
     "metadata": {},
     "output_type": "execute_result"
    }
   ],
   "source": [
    "d8.pop('mentor')"
   ]
  },
  {
   "cell_type": "code",
   "execution_count": 69,
   "id": "9e2c42c8-bcb0-4eaf-9d49-6e2d1e0b09ef",
   "metadata": {},
   "outputs": [
    {
     "data": {
      "text/plain": [
       "{'mobailenumber': (2424, 345345, 345345)}"
      ]
     },
     "execution_count": 69,
     "metadata": {},
     "output_type": "execute_result"
    }
   ],
   "source": [
    "d8"
   ]
  },
  {
   "cell_type": "code",
   "execution_count": 70,
   "id": "da759f1e-3e7a-450b-90be-18331d65b3e2",
   "metadata": {},
   "outputs": [],
   "source": [
    "d8[\"name\"] = \"sudhanshu\""
   ]
  },
  {
   "cell_type": "code",
   "execution_count": 71,
   "id": "37cff448-62c3-4ce1-9b5d-740c13848966",
   "metadata": {},
   "outputs": [
    {
     "data": {
      "text/plain": [
       "{'mobailenumber': (2424, 345345, 345345), 'name': 'sudhanshu'}"
      ]
     },
     "execution_count": 71,
     "metadata": {},
     "output_type": "execute_result"
    }
   ],
   "source": [
    "d8"
   ]
  },
  {
   "cell_type": "code",
   "execution_count": 72,
   "id": "4bea216f-6046-4c1c-95f2-1aac8e30e190",
   "metadata": {},
   "outputs": [],
   "source": [
    "def test10(**kwargs) :\n",
    "    return kwargs\n",
    "    "
   ]
  },
  {
   "cell_type": "code",
   "execution_count": 74,
   "id": "9c9792bb-ae43-475a-8a49-3872124d8147",
   "metadata": {},
   "outputs": [
    {
     "data": {
      "text/plain": [
       "{'a': 4, 'b': 5, 'c': 6, 'sudh': [12, 3, 3, 4, 5]}"
      ]
     },
     "execution_count": 74,
     "metadata": {},
     "output_type": "execute_result"
    }
   ],
   "source": [
    "test10(a = 4, b = 5, c=6,sudh= [12,3,3,4,5])"
   ]
  },
  {
   "cell_type": "code",
   "execution_count": 75,
   "id": "16d79c9f-fa65-4333-b184-a4b2088bb146",
   "metadata": {},
   "outputs": [],
   "source": [
    "def test11(**sudh) :\n",
    "    return sudh"
   ]
  },
  {
   "cell_type": "code",
   "execution_count": 77,
   "id": "e76308aa-019f-4e4e-81b1-1f9f8018e064",
   "metadata": {},
   "outputs": [
    {
     "data": {
      "text/plain": [
       "{'b': 'sudh', 'm': 23423}"
      ]
     },
     "execution_count": 77,
     "metadata": {},
     "output_type": "execute_result"
    }
   ],
   "source": [
    "test11(b = \"sudh\" , m = 23423)"
   ]
  },
  {
   "cell_type": "code",
   "execution_count": 78,
   "id": "3e0dadda-7c2c-4266-a7ba-21043af84850",
   "metadata": {},
   "outputs": [],
   "source": [
    "def test12(a) :\n",
    "    return a\n",
    "\n",
    "def test13(b):\n",
    "    return b\n",
    "\n",
    "def test14(func):\n",
    "    return func(\"sudh\")"
   ]
  },
  {
   "cell_type": "code",
   "execution_count": 79,
   "id": "0cf36601-d28f-4d76-bb7c-cce2eaa079b1",
   "metadata": {},
   "outputs": [
    {
     "data": {
      "text/plain": [
       "'sudh'"
      ]
     },
     "execution_count": 79,
     "metadata": {},
     "output_type": "execute_result"
    }
   ],
   "source": [
    "test14(test12)"
   ]
  },
  {
   "cell_type": "code",
   "execution_count": 80,
   "id": "a8cdc888-aa7e-4b09-bcd0-a6f5633c6f84",
   "metadata": {},
   "outputs": [
    {
     "data": {
      "text/plain": [
       "'sudh'"
      ]
     },
     "execution_count": 80,
     "metadata": {},
     "output_type": "execute_result"
    }
   ],
   "source": [
    "test14(test13)"
   ]
  },
  {
   "cell_type": "code",
   "execution_count": 84,
   "id": "48363698-16c8-48e9-87ce-d691621436a7",
   "metadata": {},
   "outputs": [],
   "source": [
    "def test12(a) :\n",
    "    return a \n",
    "\n",
    "def test13(*args) :\n",
    "    return \"sudh\"\n",
    "\n",
    "def test14(func) :\n",
    "    return func(\"sudh\")\n"
   ]
  },
  {
   "cell_type": "code",
   "execution_count": 82,
   "id": "945652b2-afa6-41d4-9671-056db7a1c96c",
   "metadata": {},
   "outputs": [
    {
     "data": {
      "text/plain": [
       "'sudh'"
      ]
     },
     "execution_count": 82,
     "metadata": {},
     "output_type": "execute_result"
    }
   ],
   "source": [
    "test14(test12)"
   ]
  },
  {
   "cell_type": "code",
   "execution_count": 85,
   "id": "771e9a4f-455a-4544-8748-1a100a9de8b6",
   "metadata": {},
   "outputs": [
    {
     "data": {
      "text/plain": [
       "'sudh'"
      ]
     },
     "execution_count": 85,
     "metadata": {},
     "output_type": "execute_result"
    }
   ],
   "source": [
    "test14(test13)"
   ]
  },
  {
   "cell_type": "code",
   "execution_count": 97,
   "id": "aba1d854-50c4-4a8d-8132-07bc084e3965",
   "metadata": {},
   "outputs": [],
   "source": [
    "def test15(a):\n",
    "    print(\"this is my test15\")\n",
    "    \n",
    "    def test16() :\n",
    "        print(\"this is my test16\")\n",
    "    \n",
    "    def test17():\n",
    "        print(\"this is my test17\")\n",
    "        \n",
    "    if a == \"sudh\":\n",
    "        return test16()\n",
    "    elif a == \"kumar\":\n",
    "        return test17()\n",
    "    "
   ]
  },
  {
   "cell_type": "code",
   "execution_count": 98,
   "id": "bfe5f31a-6539-4e47-b3b1-e0b3a763d685",
   "metadata": {},
   "outputs": [
    {
     "name": "stdout",
     "output_type": "stream",
     "text": [
      "this is my test15\n",
      "this is my test16\n"
     ]
    }
   ],
   "source": [
    "test15(\"sudh\")"
   ]
  },
  {
   "cell_type": "code",
   "execution_count": 99,
   "id": "6cebbbd7-7ae0-4d47-be30-ae9d320958e0",
   "metadata": {},
   "outputs": [
    {
     "name": "stdout",
     "output_type": "stream",
     "text": [
      "this is my test15\n",
      "this is my test17\n"
     ]
    }
   ],
   "source": [
    "test15(\"kumar\")"
   ]
  },
  {
   "cell_type": "code",
   "execution_count": 1,
   "id": "04a7a61f-24d8-4a87-ba91-4a2c364698e2",
   "metadata": {},
   "outputs": [],
   "source": [
    "def test13(*args):\n",
    "    print(\"this is a return of test13\")"
   ]
  },
  {
   "cell_type": "code",
   "execution_count": 7,
   "id": "50d15cc5-eb6e-458b-a090-c948fc3c93db",
   "metadata": {},
   "outputs": [],
   "source": [
    "def test18(func) :\n",
    "    def test19():\n",
    "        print(\"i am inside test19\")\n",
    "        func()\n",
    "    return test19()"
   ]
  },
  {
   "cell_type": "code",
   "execution_count": 8,
   "id": "aecd4229-a5a2-4a03-aa5d-b7f3b4c0519f",
   "metadata": {},
   "outputs": [
    {
     "name": "stdout",
     "output_type": "stream",
     "text": [
      "i am inside test19\n",
      "this is a return of test13\n"
     ]
    }
   ],
   "source": [
    "test18(test13)"
   ]
  },
  {
   "cell_type": "code",
   "execution_count": 9,
   "id": "61a9b0fe-bb93-42ef-ad55-feb6886ca83b",
   "metadata": {},
   "outputs": [
    {
     "ename": "TypeError",
     "evalue": "test18() missing 1 required positional argument: 'func'",
     "output_type": "error",
     "traceback": [
      "\u001b[0;31m---------------------------------------------------------------------------\u001b[0m",
      "\u001b[0;31mTypeError\u001b[0m                                 Traceback (most recent call last)",
      "Cell \u001b[0;32mIn [9], line 1\u001b[0m\n\u001b[0;32m----> 1\u001b[0m \u001b[43mtest18\u001b[49m\u001b[43m(\u001b[49m\u001b[43m)\u001b[49m\n",
      "\u001b[0;31mTypeError\u001b[0m: test18() missing 1 required positional argument: 'func'"
     ]
    }
   ],
   "source": [
    "test18()"
   ]
  },
  {
   "cell_type": "code",
   "execution_count": 1,
   "id": "84c04f76-db59-45f5-955b-ebfa80e2bc2a",
   "metadata": {},
   "outputs": [],
   "source": [
    "def test18(func) :\n",
    "    def test19() :\n",
    "        print(\"i am inside test19 and this will behave a decortor to any fuction thaat i am going to call \")\n",
    "        func()\n",
    "    return test19()"
   ]
  },
  {
   "cell_type": "code",
   "execution_count": 2,
   "id": "f838fac5-7838-411f-82ab-558e7420c36d",
   "metadata": {},
   "outputs": [],
   "source": [
    "def test20():\n",
    "    print(\"this is my test20\")"
   ]
  },
  {
   "cell_type": "code",
   "execution_count": 3,
   "id": "d8945e2a-2c49-46d5-afbe-fed80a064e7c",
   "metadata": {},
   "outputs": [
    {
     "name": "stdout",
     "output_type": "stream",
     "text": [
      "this is my test20\n"
     ]
    }
   ],
   "source": [
    "test20()"
   ]
  },
  {
   "cell_type": "code",
   "execution_count": 6,
   "id": "aedb1961-f8f0-4031-8ba6-44ca9c06513d",
   "metadata": {},
   "outputs": [
    {
     "name": "stdout",
     "output_type": "stream",
     "text": [
      "i am inside test19 and this will behave a decortor to any fuction thaat i am going to call \n",
      "this is my test20\n"
     ]
    }
   ],
   "source": [
    "test18(test20)"
   ]
  },
  {
   "cell_type": "code",
   "execution_count": 7,
   "id": "a61f154a-9898-46bc-bb17-25561d728dbd",
   "metadata": {},
   "outputs": [
    {
     "data": {
      "text/plain": [
       "'/home/jovyan/work'"
      ]
     },
     "execution_count": 7,
     "metadata": {},
     "output_type": "execute_result"
    }
   ],
   "source": [
    "pwd()\n"
   ]
  },
  {
   "cell_type": "code",
   "execution_count": 9,
   "id": "56ac6b66-71fe-4f3c-9a55-4ea522f1f8cc",
   "metadata": {},
   "outputs": [],
   "source": [
    "def test20(func):\n",
    "    def test21():\n",
    "        func()\n",
    "        print(os.getcwd())\n",
    "    return test21"
   ]
  },
  {
   "cell_type": "code",
   "execution_count": 14,
   "id": "9f88ef07-a025-490a-b380-5b1b37aafb0e",
   "metadata": {},
   "outputs": [],
   "source": [
    "\n",
    "def test22():\n",
    "    print(\"this will print inside test22\")"
   ]
  },
  {
   "cell_type": "code",
   "execution_count": 15,
   "id": "d5eb9582-4964-4ea7-aa6b-0eb6255acc56",
   "metadata": {},
   "outputs": [
    {
     "name": "stdout",
     "output_type": "stream",
     "text": [
      "this will print inside test22\n"
     ]
    }
   ],
   "source": [
    "test22()"
   ]
  },
  {
   "cell_type": "code",
   "execution_count": 16,
   "id": "067fbfd2-8bf7-4efd-b941-6bc81441176b",
   "metadata": {},
   "outputs": [
    {
     "name": "stdout",
     "output_type": "stream",
     "text": [
      "hello\n",
      "0.00010943412780761719\n"
     ]
    }
   ],
   "source": [
    "import time\n",
    "\n",
    "start = time.time()\n",
    "print(\"hello\")\n",
    "end = time.time()\n",
    "print(end - start)"
   ]
  },
  {
   "cell_type": "code",
   "execution_count": 17,
   "id": "a50ef540-a30b-477b-92af-68052294e335",
   "metadata": {},
   "outputs": [
    {
     "data": {
      "text/plain": [
       "1671602168.3871887"
      ]
     },
     "execution_count": 17,
     "metadata": {},
     "output_type": "execute_result"
    }
   ],
   "source": [
    "time.time()"
   ]
  },
  {
   "cell_type": "code",
   "execution_count": 20,
   "id": "7c726207-17c6-4c3c-867f-4b027fc40801",
   "metadata": {},
   "outputs": [],
   "source": [
    "def test25(func) :\n",
    "    def test26():\n",
    "        print(\"this wil give you executation time of a function \")\n",
    "        start = time.time()\n",
    "        func()\n",
    "        end = time.time()\n",
    "        print(end - start)\n",
    "        print(end - start)\n",
    "    return test26\n",
    "\n",
    "    "
   ]
  },
  {
   "cell_type": "code",
   "execution_count": 25,
   "id": "b7a5b22b-9b9d-4041-8a86-34b620249c07",
   "metadata": {},
   "outputs": [],
   "source": [
    "@test25\n",
    "def test27():\n",
    "    l = [4,5,6,7,8,8]\n",
    "    l1 = []\n",
    "    for i in l :\n",
    "        if type(i) == int :\n",
    "            l1.append(i)\n",
    "    return l1"
   ]
  },
  {
   "cell_type": "code",
   "execution_count": 26,
   "id": "f43093d8-a94c-42f8-8988-5ff0b46310e9",
   "metadata": {},
   "outputs": [
    {
     "name": "stdout",
     "output_type": "stream",
     "text": [
      "this wil give you executation time of a function \n",
      "3.5762786865234375e-06\n",
      "3.5762786865234375e-06\n"
     ]
    }
   ],
   "source": [
    "test27()"
   ]
  },
  {
   "cell_type": "code",
   "execution_count": null,
   "id": "438a9073-1f0c-49e3-ad1a-0c4181ed5fdd",
   "metadata": {},
   "outputs": [],
   "source": []
  }
 ],
 "metadata": {
  "kernelspec": {
   "display_name": "Python 3 (ipykernel)",
   "language": "python",
   "name": "python3"
  },
  "language_info": {
   "codemirror_mode": {
    "name": "ipython",
    "version": 3
   },
   "file_extension": ".py",
   "mimetype": "text/x-python",
   "name": "python",
   "nbconvert_exporter": "python",
   "pygments_lexer": "ipython3",
   "version": "3.10.6"
  }
 },
 "nbformat": 4,
 "nbformat_minor": 5
}
